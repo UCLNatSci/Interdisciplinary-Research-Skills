{
 "cells": [
  {
   "cell_type": "markdown",
   "metadata": {
    "collapsed": false
   },
   "source": [
    "# Workshop 4: Modelling and Simulation\n",
    "\n",
    "## Introduction\n",
    "\n",
    "A [scientific model ](https://www.britannica.com/science/scientific-modeling) is a mathematical or conceptual representation of a real-world process or phenomenon. \n",
    "\n",
    "In the previous workshop, we simulated the motion of an object moving under gravity using a simple quadratic equation. The equation was a model of the motion of the object, but in reality it's only a prediction of the object's movement. \n",
    "\n",
    "We can test the model by performing an experiment and comparing the result of the experiment against the prediction of the model. We can think of the model as a 'scientific hypothesis' which we confirm or refute based on the results of the experiment, a key component of the [scientific method](https://www.britannica.com/science/scientific-method). \n",
    "\n",
    "In reality we might find that the model is a reasonable appoximation to reality - but by making refinements to the model we can improve its predictive power.\n",
    "\n",
    ":::{admonition} Coming soon\n",
    ":class: hint\n",
    "Later you will work in small groups of students to perform a real experiment which tests a model of the motion of an object under gravity.\n",
    ":::\n",
    "\n",
    "In this workshop you will make predictions about populations of bacteria using simple quantitative models of population growth.\n",
    "\n",
    ":::{admonition} What you'll learn\n",
    ":class: hint\n",
    "1. How to model a system using simple difference equations\n",
    "1. How to load data and plot it\n",
    "1. How to using model fitting to estimate the parameters of a model\n",
    ":::\n",
    "\n",
    "## Exponential Growth\n",
    "Bacteria grown in the lab provide an example of **exponential growth**. In exponential growth, the growth rate of the population is in proportion to the size of the population. Bacteria reproduce by binary fission, and the time between divisions is about an hour.\n",
    "\n",
    "Suppose we place a 1000 bacteria in a flask with an unlimited supply of nutrients. After one hour, each bacterium will divide, yielding 2000 bacteria (an increase of 1000). After 2 hours, each of the 2000 bacteria will divide, producing 4000 (an increase of 2000 bacteria). After 3 hours, each of the 4000 bacteria will divide, producing 8000 (an increase of 4000 bacteria). \n",
    "\n",
    "The key concept of exponential growth is that the number of cells added in each generation is in direct proportion to the number cells.\n",
    "\n",
    "## Modelling Exponential Growth\n",
    "\n",
    "Suppose a population of bacteria belonging to species X doubles in size every hour. Then we can model the population using the following equation:\n",
    "\n",
    "$$x_{i+1} = x_i + rx_i $$\n",
    "\n",
    "where $x_i$ is the population at hour $i$ and $r$ is the growth rate. For this scenario, where the population doubles with each step, we set $r=1$. The equation represents the fact that the population at hour $i+1$ is $r+1$ times the population at hour $i$.\n",
    "\n",
    "Suppose that the initial population is exactly $1000$ cells and we would like to simulate the population size over the course of 8 hours.\n"
   ]
  },
  {
   "cell_type": "code",
   "execution_count": 1,
   "metadata": {
    "collapsed": false
   },
   "outputs": [
    {
     "name": "stdout",
     "output_type": "stream",
     "text": [
      "Population of species X: [  1000.   2000.   4000.   8000.  16000.  32000.  64000. 128000. 256000.]\n"
     ]
    }
   ],
   "source": [
    "import numpy as np\n",
    "import matplotlib.pyplot as plt\n",
    "\n",
    "r_X = 1\n",
    "n_hours = 8\n",
    "initial_population = 1000\n",
    "pop_X = np.zeros(n_hours + 1)\n",
    "\n",
    "pop_X[0] = initial_population\n",
    "for i in range(n_hours):\n",
    "    pop_X[i + 1] = pop_X[i] + pop_X[i] * r_X\n",
    "    \n",
    "print(\"Population of species X:\", pop_X)"
   ]
  },
  {
   "cell_type": "markdown",
   "metadata": {
    "collapsed": false
   },
   "source": [
    ":::{note}\n",
    "Python uses *exponential notation* to express decimal numbers e.g. $2048 = 2.048 \\times 10^3$ is expressed as `2.048e+03`.\n",
    ":::\n",
    "\n",
    "Using `plt.plot` we can visualise the population curve over the 8 hours:"
   ]
  },
  {
   "cell_type": "code",
   "execution_count": 2,
   "metadata": {
    "collapsed": false,
    "scrolled": true
   },
   "outputs": [
    {
     "data": {
      "text/plain": [
       "Text(0.5, 1.0, 'Species X')"
      ]
     },
     "execution_count": 2,
     "metadata": {
     },
     "output_type": "execute_result"
    },
    {
     "data": {
      "image/png": "[encoded data removed]",
      "text/plain": [
       "<Figure size 432x216 with 1 Axes>"
      ]
     },
     "execution_count": 2,
     "metadata": {
      "needs_background": "light"
     },
     "output_type": "execute_result"
    }
   ],
   "source": [
    "plt.figure(figsize=(6,3))\n",
    "plt.plot(pop_X)\n",
    "\n",
    "plt.xlabel(\"time (hours)\")\n",
    "plt.ylabel(\"population\")\n",
    "plt.title(\"Species X\")"
   ]
  },
  {
   "cell_type": "markdown",
   "metadata": {
    "collapsed": false
   },
   "source": [
    "Now suppose we have another bacterial species Y with a slower growth rate $r = 0.1$.\n",
    "\n",
    "|Species|r|\n",
    "|---|---|\n",
    "|X|1.0|\n",
    "|Y|0.1|\n",
    "\n",
    "> Use the code above to simulate the growth of population Y.\n",
    "\n",
    "> Plot the predicted population of species Y on a separate figure."
   ]
  },
  {
   "cell_type": "markdown",
   "metadata": {
    "collapsed": false
   },
   "source": [
    "## Experimental Data\n",
    "\n",
    "### Eight hour experiment\n",
    "\n",
    "Now suppose that we perform a laboratory experiment in order to measure the growth in the two species of bacteria. The population of each was recorded every hour for 8 hours.\n",
    "\n",
    ":::{seealso}\n",
    "See [here](https://courses.lumenlearning.com/boundless-microbiology/chapter/counting-bacteria/) for how you might measure a bacterial population in practice.\n",
    ":::\n",
    "\n",
    "|Time (hours)|0|1|2|3|4|5|6|7|8|\n",
    "|---|---|---|---|---|---|---|---|---|---|\n",
    "|Species X population (thousands)|1.0|2.18|4.45|8.91|16.1|31.49|60.89|117.58|214.4|\n",
    "|Species Y population (thousands)|1.0|1.47|2.02|2.81|4.16|5.88|7.98|10.99|15.59|\n",
    "\n",
    "Let's plot this experimental data on the same graph as the model simulation."
   ]
  },
  {
   "cell_type": "code",
   "execution_count": 3,
   "metadata": {
    "collapsed": false
   },
   "outputs": [
    {
     "data": {
      "text/plain": [
       "<matplotlib.legend.Legend at 0x11bd79940>"
      ]
     },
     "execution_count": 3,
     "metadata": {
     },
     "output_type": "execute_result"
    },
    {
     "data": {
      "image/png": "[encoded data removed]",
      "text/plain": [
       "<Figure size 432x216 with 1 Axes>"
      ]
     },
     "execution_count": 3,
     "metadata": {
      "needs_background": "light"
     },
     "output_type": "execute_result"
    }
   ],
   "source": [
    "data_X = np.array([  1.  ,   2.18,   4.45,   8.91,  16.1 ,  31.49,  60.89, 117.58, 214.4 ]) * 1000\n",
    "\n",
    "plt.figure(figsize=(6,3))\n",
    "plt.plot(pop_X, label=\"model\")\n",
    "plt.plot(data_X, label=\"experiment\")\n",
    "\n",
    "plt.xlabel(\"time (hours)\")\n",
    "plt.ylabel(\"population\")\n",
    "plt.title(\"Species X\")\n",
    "plt.legend()"
   ]
  },
  {
   "cell_type": "markdown",
   "metadata": {
    "collapsed": false
   },
   "source": [
    "Notice that the the experimental data is a good fit to the model prediction, so at this point we can be confident in our model, and our value of $r=1$.\n",
    "\n",
    "> On a new figure, plot the experimental data and model prediction for species Y.\n",
    "\n",
    "You should find that the model and experiment aren't such a good fit for species Y.\n",
    "\n",
    "> By changing the value of `r_Y` until the two graphs coincide, determine a good value of $r$ for species Y.\n",
    "\n",
    "### 24 hour experiment\n",
    "\n",
    "The experimenter continues the experiment for a full 24 hours. The results of the experiment are in the files `data_exp_X.txt` and `data_exp_Y.txt`.\n",
    "\n",
    "<a href=\"../workshop_4/data_exp_X.txt\" download>data_exp_X.txt</a>  \n",
    "<a href=\"../workshop_4/data_exp_Y.txt\" download>data_exp_Y.txt</a>\n",
    "\n",
    "We can use the `numpy` function `np.loadtxt` to load the data into a numpy array:"
   ]
  },
  {
   "cell_type": "code",
   "execution_count": 4,
   "metadata": {
    "collapsed": false
   },
   "outputs": [
    {
     "name": "stdout",
     "output_type": "stream",
     "text": [
      "[1.00000000e+03 2.17777342e+03 4.44576258e+03 8.91456547e+03\n",
      " 1.60958432e+04 3.14897238e+04 6.08883077e+04 1.17580768e+05\n",
      " 2.14397399e+05 3.81989811e+05 6.03315856e+05 7.87285829e+05\n",
      " 9.96982461e+05 1.04405640e+06 1.08337178e+06 9.95533440e+05\n",
      " 9.79746583e+05 9.72332987e+05 9.21969859e+05 1.04273060e+06\n",
      " 9.43221236e+05 9.37714865e+05 9.85877957e+05 1.07409317e+06]\n"
     ]
    }
   ],
   "source": [
    "data_X = np.loadtxt(\"data_exp_X.txt\")\n",
    "print(data_X)"
   ]
  },
  {
   "cell_type": "markdown",
   "metadata": {
    "collapsed": false
   },
   "source": [
    "We'll change the value of `n_hours` to `24` and re-run the model."
   ]
  },
  {
   "cell_type": "code",
   "execution_count": 5,
   "metadata": {
    "collapsed": false
   },
   "outputs": [
    {
     "data": {
      "text/plain": [
       "<matplotlib.legend.Legend at 0x11bea39a0>"
      ]
     },
     "execution_count": 5,
     "metadata": {
     },
     "output_type": "execute_result"
    },
    {
     "data": {
      "image/png": "[encoded data removed]",
      "text/plain": [
       "<Figure size 432x216 with 1 Axes>"
      ]
     },
     "execution_count": 5,
     "metadata": {
      "needs_background": "light"
     },
     "output_type": "execute_result"
    }
   ],
   "source": [
    "r_X = 1\n",
    "n_hours = 24\n",
    "initial_population = 1000\n",
    "pop_X = np.zeros(n_hours + 1)\n",
    "\n",
    "pop_X[0] = initial_population\n",
    "for i in range(n_hours):\n",
    "    pop_X[i + 1] = pop_X[i] + pop_X[i] * r_X\n",
    "    \n",
    "plt.figure(figsize=(6,3))\n",
    "plt.plot(pop_X, label=\"model\")\n",
    "plt.plot(data_X, label=\"experiment\")\n",
    "\n",
    "plt.xlabel(\"time (hours)\")\n",
    "plt.ylabel(\"population\")\n",
    "plt.title(\"Species X\")\n",
    "plt.legend()"
   ]
  },
  {
   "cell_type": "markdown",
   "metadata": {
    "collapsed": false
   },
   "source": [
    "The model and experimental data are no longer a good fit at all. At this scale, it looks like the experimental data is zero for the entire 24 hours. However, to see what's going on let's plot the experimental data alone:"
   ]
  },
  {
   "cell_type": "code",
   "execution_count": 6,
   "metadata": {
    "collapsed": false
   },
   "outputs": [
    {
     "data": {
      "text/plain": [
       "[<matplotlib.lines.Line2D at 0x11bf55430>]"
      ]
     },
     "execution_count": 6,
     "metadata": {
     },
     "output_type": "execute_result"
    },
    {
     "data": {
      "image/png": "[encoded data removed]",
      "text/plain": [
       "<Figure size 432x216 with 1 Axes>"
      ]
     },
     "execution_count": 6,
     "metadata": {
      "needs_background": "light"
     },
     "output_type": "execute_result"
    }
   ],
   "source": [
    "plt.figure(figsize=(6,3))\n",
    "plt.plot(data_X, color='#ff7f0e')"
   ]
  },
  {
   "cell_type": "markdown",
   "metadata": {
    "collapsed": false
   },
   "source": [
    "Notice that while the population increases exponentially at first, eventually it stops increasing, likely due to exhausting resources such as nutrients or physical space. Our simple exponential model is insufficient to take this into account.\n",
    "\n",
    "Instead, we can consider a more sophisticated model, *logistic growth*.\n",
    "\n",
    "## Logistic Growth\n",
    "\n",
    "The logistic equation describes the growth of a population where the growth rate is limited by resources.\n",
    "\n",
    "$$x_{i+1} = x_i + r(1-x_i/K)x_i$$\n",
    "\n",
    "the growth rate $r$ has been replaced by the term $r(1-x_i/K)$. For small populations (when $x_i$ is much less than $K$) the growth rate is close to $r$. As the population size approaches the value $K$, the growth rate reduces to zero.\n",
    "\n",
    ":::{note}\n",
    "$K$ is called the **carrying capacity**.\n",
    ":::\n",
    "\n",
    "> Simulate the growth of species X use the new equation. You will need to create a new variable `K_X` and change the line `pop_X[i + 1] = pop_X[i] + pop_X[i] * r_X`. Use the value `K_X = 1e6`.\n",
    "> Plot the experimental and model prediction on the same graph.\n",
    "\n",
    "You should find that the two curves fit well, showing that our new model predicts the population growth well.\n",
    "\n",
    "> Repeat the simulation for species Y (Don't forget to load the 24h experimental data for Y, from the text file provided above!). Determine values of $r$ and $K$ that best fit the experimental data. Hint: the value of $r$ affects the steepness of growth, while $K$ is related to the point of saturation."
   ]
  },
  {
   "cell_type": "markdown",
   "metadata": {
    "collapsed": false
   },
   "source": [
    "## Exercise\n",
    "\n",
    "The following three text files contain the results of 3 bacterial population growth experiments. For each one, plot the data and by running a simulation for each, estimate the value of $r$ and $K$.\n",
    "\n",
    "<a href=\"../workshop_4/data_exp_A.txt\" download>data_exp_A.txt</a>  \n",
    "<a href=\"../workshop_4/data_exp_B.txt\" download>data_exp_B.txt</a>  \n",
    "<a href=\"../workshop_4/data_exp_C.txt\" download>data_exp_C.txt</a>\n",
    "\n",
    "Which data file corresponds to which of the three species in the table below?\n",
    "\n",
    "|Species|r|\n",
    "|---|---|\n",
    "|1|0.4|\n",
    "|2|0.7|\n",
    "|3|0.9|\n",
    "\n",
    ":::{admonition} Challenge\n",
    ":class: hint\n",
    "See if you can use simple functions, loops and arrays to solve this exercise efficiently. If you find yourself repeating the same code over and over, could you use a loop? Try defining a function that takes values for $r$, $K$, $x_0$ (initial population) and `n_hours` as inputs and returns an array of population values.\n",
    "\n",
    ":::"
   ]
  },
  {
   "cell_type": "markdown",
   "metadata": {
    "collapsed": false
   },
   "source": [
    "## Epidemic Model (Optional)\n",
    "\n",
    "The spread of an infectious disease amongst a population can be modelled by the following pair of coupled equations:\n",
    "\n",
    "$$ S_{i+1} = S_i - bS_iI_i $$\n",
    "$$ I_{i+1} = I_i + bS_iI_i - aI_i $$\n",
    "\n",
    "where $S_i$ represents the number of susceptible (uninfected) people and $I_i$ represents the number of infected people.\n",
    "\n",
    "There are two parameters: the recovery rate parameter $a$ and the infection rate parameter $b$.\n",
    "\n",
    "Starting with parameter values $a = 0.1$ and $b = 0.00005$ and the initial populations $S_0 = 20000$ and $I_0 = 100$, model the infection for 100 days.\n",
    "\n",
    "What happens as you change the values of $a$ and $b$?\n",
    "\n",
    ":::{admonition} SIR model\n",
    ":class: seealso\n",
    "This model is called the SIR model which is commonly used to [model epidemics such as COVID](https://www.nature.com/articles/d41586-020-01003-6).\n",
    ":::\n",
    "\n"
   ]
  }
 ],
 "metadata": {
  "kernelspec": {
   "display_name": "Python 3 (system-wide)",
   "language": "python",
   "metadata": {
    "cocalc": {
     "description": "Python 3 programming language",
     "priority": 100,
     "url": "https://www.python.org/"
    }
   },
   "name": "python3",
   "resource_dir": "/ext/jupyter/kernels/python3"
  },
  "language_info": {
   "codemirror_mode": {
    "name": "ipython",
    "version": 3
   },
   "file_extension": ".py",
   "mimetype": "text/x-python",
   "name": "python",
   "nbconvert_exporter": "python",
   "pygments_lexer": "ipython3",
   "version": "3.9.7"
  }
 },
 "nbformat": 4,
 "nbformat_minor": 4
}