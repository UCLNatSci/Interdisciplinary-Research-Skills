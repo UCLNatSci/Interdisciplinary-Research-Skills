{
 "cells": [
  {
   "cell_type": "markdown",
   "metadata": {
    "collapsed": false
   },
   "source": [
    "# Workshop 2: Turtle Graphics\n",
    "\n",
    "[Turtle Graphics](https://en.wikipedia.org/wiki/Turtle_graphics) is a graphical computer language often used to introduce programming to beginners. The user controls an on-screen turtle by sending commands such as 'forward 50' and 'rotate 90'. The turtle follows the commands in sequence, drawing a line as it moves.\n",
    "\n",
    "![Turtle Graphics](220px-Turtle-animation.gif)\n",
    "\n",
    "In this workshop, we will investigate a 'Turtle Graphics' program using Python, and use it to demonstrate some key programming concepts.\n",
    "\n",
    ":::{admonition} What you'll learn\n",
    "1. How to construct a Python program from a sequence of instructions\n",
    "1. How to repeat sections of code using loops\n",
    "1. How to assemble more complicated programs by combining instructions into functions\n",
    ":::\n",
    "\n",
    "## Question 1\n",
    "\n",
    "The code below implements a simple Turtle Graphics program. Don't worry, you're not expected to understand it - some of this is quite advanced!\n",
    "\n",
    "> Paste the code into a new code cell. "
   ]
  },
  {
   "cell_type": "code",
   "execution_count": 1,
   "metadata": {
    "collapsed": false,
    "scrolled": true
   },
   "outputs": [
   ],
   "source": [
    "import matplotlib.pyplot as plt\n",
    "import numpy as np\n",
    "\n",
    "# Function definitions\n",
    "\n",
    "def start():\n",
    "    state[0] = 0\n",
    "    state[1] = 0\n",
    "    state[2] = 0\n",
    "    \n",
    "    fig = plt.figure(figsize=(4,4))\n",
    "    ax = fig.add_subplot(111)\n",
    "    ax.set_aspect('equal', adjustable='box')\n",
    "\n",
    "def draw_forward(dis):\n",
    "    x = state[0]\n",
    "    y = state[1]\n",
    "    angle = state[2]\n",
    "    state[0] = x + np.cos(angle) * dis\n",
    "    state[1] = y + np.sin(angle) * dis\n",
    "    plt.plot([x, state[0]], [y, state[1]], color=\"black\", linewidth=2)\n",
    "    \n",
    "def move_forward(dis):\n",
    "    x = state[0]\n",
    "    y = state[1]\n",
    "    angle = state[2]\n",
    "    state[0] = x + np.cos(angle) * dis\n",
    "    state[1] = y + np.sin(angle) * dis\n",
    "    \n",
    "def rotate_left(theta):\n",
    "    state[2] = state[2] + theta * np.pi / 180\n",
    "    \n",
    "state = [0, 0, 0]"
   ]
  },
  {
   "cell_type": "markdown",
   "metadata": {
    "collapsed": false
   },
   "source": [
    "> If you run the code, nothing appears to happen.\n",
    "> Create another code cell and paste the following code:"
   ]
  },
  {
   "cell_type": "code",
   "execution_count": 2,
   "metadata": {
    "collapsed": false,
    "scrolled": true
   },
   "outputs": [
    {
     "data": {
      "image/png": "[encoded data removed]",
      "text/plain": [
       "<Figure size 288x288 with 1 Axes>"
      ]
     },
     "execution_count": 2,
     "metadata": {
      "image/png": {
       "height": 248,
       "width": 254
      },
      "needs_background": "light"
     },
     "output_type": "execute_result"
    }
   ],
   "source": [
    "# Example: draw a unit square\n",
    "start()\n",
    "draw_forward(1)\n",
    "rotate_left(90)\n",
    "draw_forward(1)"
   ]
  },
  {
   "cell_type": "markdown",
   "metadata": {
    "collapsed": false
   },
   "source": [
    "If you run the code cell, you should see a backwards 'L' shape in a box, like above. Let's examine each line of the five lines of code.\n",
    "\n",
    "1. The first line begins with a `#` symbol. This indicates that the line is a *comment* and will be ignored by Python.\n",
    "1. The next line initialises the Turtle and creates a plotting area.\n",
    "1. We instruct the Turtle to move forward 1 unit.\n",
    "1. We instruct the Turtle to turn left 90 degrees.\n",
    "1. We instruct the Turtle to move forward 1 unit.\n",
    "\n",
    "Notice that, even though we may not understand the entire Turtle program, we can understand how to use it to draw shapes.\n",
    "\n",
    "> Write more lines of code so that the Turtle draws a square (you can create a new code cell, or just edit the existing one).\n",
    "\n",
    "A regular hexagon is a six-sided shape with equal side lengths and internal angles.\n",
    "\n",
    "> In a new code cell, write code to instruct the Turtle to draw a regular hexagon (you will need to choose a suitable rotation angle).\n",
    "\n",
    ":::{admonition} Computer Program\n",
    "A computer program is an ordered sequence of instructions which direct the computer to perform a specific task. The computer executes each instruction in turn, resulting in the desired output.\n",
    ":::\n",
    "\n",
    "## Question 2\n",
    "\n",
    "In principle, we could use the same technique to generate any $n$-sided polygon. But there's a smarter way, which means that we don't have to endlessly repeat ourselves, using *loops*. Here is how to draw a square using a `for` loop:"
   ]
  },
  {
   "cell_type": "code",
   "execution_count": 2,
   "metadata": {
    "collapsed": false
   },
   "outputs": [
    {
     "data": {
      "image/png": "[encoded data removed]",
      "text/plain": [
       "<Figure size 288x288 with 1 Axes>"
      ]
     },
     "execution_count": 2,
     "metadata": {
      "image/png": {
       "height": 248,
       "width": 254
      },
      "needs_background": "light"
     },
     "output_type": "execute_result"
    }
   ],
   "source": [
    "start()\n",
    "for i in range(4):\n",
    "    draw_forward(1)\n",
    "    rotate_left(90)"
   ]
  },
  {
   "cell_type": "markdown",
   "metadata": {
    "collapsed": false
   },
   "source": [
    "> Rewrite your hexagon code using a `for` loop.\n",
    "\n",
    ":::{admonition} `for` loop\n",
    "A `for` loop instructs the computer to repeat a set of instructions a specified number of times. For example, the following code would print the numbers 1 to 10.\n",
    "\n",
    "```\n",
    "for i in range(10):\n",
    "    print(i)\n",
    "```\n",
    ":::\n",
    "\n",
    "## Question 3\n",
    "\n",
    "The following code defines a function which draws a square, using the code above:\n",
    "\n",
    "```\n",
    "def draw_square():\n",
    "    for i in range(4):\n",
    "        draw_forward(1)\n",
    "        rotate_left(90)\n",
    "```\n",
    "\n",
    "> Paste this code into the top code cell, immediately below where it says `# function definitions`, then run the code cell.\n",
    "\n",
    "> In a new code cell, enter the code below and run it:\n",
    "\n",
    "```\n",
    "start()\n",
    "draw_square()\n",
    "```\n",
    "\n",
    "> Create new functions `draw_triangle()`, `draw_pentagon`, `draw_hexagon` and `draw_heptagon`. Create a new code cell and use the functions to reproduce the figure below. (use the function `move_forward` to move the Turtle without drawing).\n",
    "\n",
    "```{glue:} turtle_polygons\n",
    "```\n",
    "\n",
    ":::{admonition} Functions\n",
    "A function is a set of instructions combined together to achieve a specific outcome. Functions are a good alternative to having repeating blocks of code in a program.\n",
    ":::"
   ]
  },
  {
   "cell_type": "markdown",
   "metadata": {
    "collapsed": false
   },
   "source": [
    "\n",
    "## Question 4\n",
    "\n",
    "Can you reproduce the figures below?\n",
    "\n",
    "```{glue:} turtle_rotated_squares\n",
    "```\n",
    "\n",
    "```{glue:} turtle_circles\n",
    "```\n",
    "*Hint: approximate a circle by a polygon with a large number of sides* "
   ]
  },
  {
   "cell_type": "markdown",
   "metadata": {
    "collapsed": false
   },
   "source": [
    "## Question 5 (Optional)\n",
    "\n",
    "The Koch curve is a fractal that can be generated by iteratively applying a sequence of Turtle instructions.\n",
    "\n",
    "![](images/koch_1.png)![](images/koch_2.png)![](images/koch_3.png)\n",
    "\n",
    "> Use the Turtle to draw the first 3 iterations of the Koch curve, as above.\n",
    "\n",
    "The Koch curve is just one example of a class of fractals called 'L-Systems'.\n",
    "\n",
    "> [Read about L-Systems](http://www.fractalcurves.com/Turtle.html) then try drawing some L-Systems using Turtle.\n",
    "\n"
   ]
  }
 ],
 "metadata": {
  "kernelspec": {
   "display_name": "Python 3 (system-wide)",
   "language": "python",
   "metadata": {
    "cocalc": {
     "description": "Python 3 programming language",
     "priority": 100,
     "url": "https://www.python.org/"
    }
   },
   "name": "python3",
   "resource_dir": "/ext/jupyter/kernels/python3"
  },
  "language_info": {
   "codemirror_mode": {
    "name": "ipython",
    "version": 3
   },
   "file_extension": ".py",
   "mimetype": "text/x-python",
   "name": "python",
   "nbconvert_exporter": "python",
   "pygments_lexer": "ipython3",
   "version": "3.8.10"
  }
 },
 "nbformat": 4,
 "nbformat_minor": 4
}