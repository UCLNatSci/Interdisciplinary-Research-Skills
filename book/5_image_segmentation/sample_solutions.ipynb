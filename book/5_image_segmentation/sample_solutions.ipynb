{
 "cells": [
  {
   "cell_type": "code",
   "execution_count": null,
   "id": "0bbaca2f",
   "metadata": {},
   "outputs": [],
   "source": [
    "# Adjust these index values to get the red box\n",
    "left = 2\n",
    "right = 6\n",
    "top = 4\n",
    "bottom = 7\n",
    "\n",
    "plt.imshow( x[top:bottom, left:right], cmap=plt.get_cmap('Greys_r'))\n",
    "plt.clim(np.amin(x), np.amax(x))"
   ]
  }
 ],
 "metadata": {
  "kernelspec": {
   "display_name": "Python 3 (ipykernel)",
   "language": "python",
   "name": "python3"
  },
  "language_info": {
   "codemirror_mode": {
    "name": "ipython",
    "version": 3
   },
   "file_extension": ".py",
   "mimetype": "text/x-python",
   "name": "python",
   "nbconvert_exporter": "python",
   "pygments_lexer": "ipython3",
   "version": "3.9.7"
  }
 },
 "nbformat": 4,
 "nbformat_minor": 5
}
